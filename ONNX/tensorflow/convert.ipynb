{
 "cells": [
  {
   "cell_type": "code",
   "execution_count": null,
   "id": "0c9463db",
   "metadata": {},
   "outputs": [],
   "source": [
    "import tensorflow as tf\n",
    "import os\n",
    "import tf2onnx\n",
    "import numpy as np"
   ]
  },
  {
   "cell_type": "code",
   "execution_count": null,
   "id": "a18dad79",
   "metadata": {},
   "outputs": [],
   "source": [
    "model = tf.keras.applications.resnet.ResNet50()"
   ]
  },
  {
   "cell_type": "markdown",
   "id": "8ff36bb6",
   "metadata": {},
   "source": [
    "# Save the model as keras model"
   ]
  },
  {
   "cell_type": "code",
   "execution_count": null,
   "id": "3560c29b",
   "metadata": {},
   "outputs": [],
   "source": [
    "model_dir = 'models/keras'\n",
    "os.makedirs(model_dir, exist_ok=True)\n",
    "input_model_path = os.path.join(model_dir, 'model.hdf5')\n",
    "cmd_output_path = os.path.join(model_dir, 'cmd.onnx')\n",
    "python_output_path = os.path.join(model_dir, 'py.onnx')\n",
    "tf.keras.models.save_model(model, input_model_path)"
   ]
  },
  {
   "cell_type": "markdown",
   "id": "855f2c3f",
   "metadata": {},
   "source": [
    "## Command Line way"
   ]
  },
  {
   "cell_type": "code",
   "execution_count": null,
   "id": "b3657edb",
   "metadata": {},
   "outputs": [],
   "source": [
    "! python -m tf2onnx.convert --keras $input_model_path --output $cmd_output_path"
   ]
  },
  {
   "cell_type": "markdown",
   "id": "5e48ab39",
   "metadata": {},
   "source": [
    "## Python way"
   ]
  },
  {
   "cell_type": "code",
   "execution_count": null,
   "id": "a285b488",
   "metadata": {},
   "outputs": [],
   "source": [
    "# convert with tfonnx function\n",
    "signature = tf.TensorSpec([None, 224, 224, 3], tf.float32, name='input')\n",
    "tf2onnx.convert.from_keras(model=model, input_signature=signature, output_path=python_output_path)"
   ]
  },
  {
   "cell_type": "code",
   "execution_count": null,
   "id": "f62246e7",
   "metadata": {},
   "outputs": [],
   "source": []
  }
 ],
 "metadata": {
  "kernelspec": {
   "display_name": "Python 3",
   "language": "python",
   "name": "python3"
  },
  "language_info": {
   "codemirror_mode": {
    "name": "ipython",
    "version": 3
   },
   "file_extension": ".py",
   "mimetype": "text/x-python",
   "name": "python",
   "nbconvert_exporter": "python",
   "pygments_lexer": "ipython3",
   "version": "3.9.6"
  }
 },
 "nbformat": 4,
 "nbformat_minor": 5
}
